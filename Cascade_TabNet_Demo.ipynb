{
  "nbformat": 4,
  "nbformat_minor": 0,
  "metadata": {
    "colab": {
      "name": "Cascade TabNet Demo.ipynb",
      "provenance": [],
      "collapsed_sections": [],
      "toc_visible": true,
      "include_colab_link": true
    },
    "kernelspec": {
      "name": "python3",
      "display_name": "Python 3"
    },
    "accelerator": "GPU"
  },
  "cells": [
    {
      "cell_type": "markdown",
      "metadata": {
        "id": "view-in-github",
        "colab_type": "text"
      },
      "source": [
        "<a href=\"https://colab.research.google.com/github/nurielw05/doc_transformers/blob/main/Cascade_TabNet_Demo.ipynb\" target=\"_parent\"><img src=\"https://colab.research.google.com/assets/colab-badge.svg\" alt=\"Open In Colab\"/></a>"
      ]
    },
    {
      "cell_type": "markdown",
      "metadata": {
        "id": "8q-NrSjkPpo_"
      },
      "source": [
        "# CascadeTabNet Demo Notebook\n",
        "[![PWC](https://img.shields.io/endpoint.svg?url=https://paperswithcode.com/badge/cascadetabnet-an-approach-for-end-to-end/table-detection-on-icdar2013-1)](https://paperswithcode.com/sota/table-detection-on-icdar2013-1?p=cascadetabnet-an-approach-for-end-to-end)\n",
        "[![PWC](https://img.shields.io/badge/PyTorch-v1.4-blue)](https://pytorch.org/)\n",
        "[![PWC](https://img.shields.io/badge/%20mmdetection%20-v1.2-blue)](https://github.com/open-mmlab/mmdetection)\n",
        "\n",
        "> **CascadeTabNet: An approach for end to end table detection and structure recognition from image-based documents**<br>\n",
        "> [Devashish Prasad](https://github.com/DevashishPrasad),\n",
        "> [Ayan Gadpal](https://github.com/ayangadpal),\n",
        "> [Kshitij Kapadni](https://github.com/kshitijkapadni),\n",
        "> [Manish Visave](https://github.com/ManishDV),\n",
        "> <br>\n",
        "> [Preprint Link of Paper](https://arxiv.org/abs/2004.12629)<br>\n",
        "> <a href=\"results.pdf\">Supplementary file</a> <br>\n",
        "> The paper has been accepted at [CVPR 2020 Workshop on Text and Documents in the Deep Learning Era](https://cvpr2020text.wordpress.com/)<br>\n",
        "> [Code Link](https://github.com/DevashishPrasad/CascadeTabNet)\n",
        "<img align=\"right\" src=\"imgs/CVPR Teaser.gif\" />"
      ]
    },
    {
      "cell_type": "markdown",
      "metadata": {
        "id": "h3w-lUufPs1X"
      },
      "source": [
        "## 1. Install all the prerequisite\n",
        "This will take a while, Remember to **Restart Runtime** after this step is done "
      ]
    },
    {
      "cell_type": "code",
      "metadata": {
        "id": "UEKJ_-iyPkdg",
        "colab": {
          "base_uri": "https://localhost:8080/"
        },
        "outputId": "185ec014-2730-4255-8e82-bcd216a42917"
      },
      "source": [
        "!pip install torch==1.4.0+cu100 torchvision==0.5.0+cu100 -f https://download.pytorch.org/whl/torch_stable.html\n",
        "!pip install -q mmcv terminaltables\n",
        "!git clone --branch v1.2.0 'https://github.com/open-mmlab/mmdetection.git'\n",
        "%cd \"mmdetection\"\n",
        "!pip install -r \"/content/mmdetection/requirements/optional.txt\"\n",
        "!python setup.py install\n",
        "!python setup.py develop\n",
        "!pip install -r {\"requirements.txt\"}\n",
        "!pip install pillow==6.2.1 \n",
        "!pip install mmcv==0.4.3\n",
        "%cd \"/content\""
      ],
      "execution_count": 1,
      "outputs": [
        {
          "output_type": "stream",
          "name": "stdout",
          "text": [
            "Looking in indexes: https://pypi.org/simple, https://us-python.pkg.dev/colab-wheels/public/simple/\n",
            "Looking in links: https://download.pytorch.org/whl/torch_stable.html\n",
            "Requirement already satisfied: torch==1.4.0+cu100 in /usr/local/lib/python3.7/dist-packages (1.4.0+cu100)\n",
            "Requirement already satisfied: torchvision==0.5.0+cu100 in /usr/local/lib/python3.7/dist-packages (0.5.0+cu100)\n",
            "Requirement already satisfied: six in /usr/local/lib/python3.7/dist-packages (from torchvision==0.5.0+cu100) (1.15.0)\n",
            "Requirement already satisfied: numpy in /usr/local/lib/python3.7/dist-packages (from torchvision==0.5.0+cu100) (1.21.6)\n",
            "Requirement already satisfied: pillow>=4.1.1 in /usr/local/lib/python3.7/dist-packages (from torchvision==0.5.0+cu100) (6.2.1)\n",
            "fatal: destination path 'mmdetection' already exists and is not an empty directory.\n",
            "/content/mmdetection\n",
            "Looking in indexes: https://pypi.org/simple, https://us-python.pkg.dev/colab-wheels/public/simple/\n",
            "Requirement already satisfied: albumentations>=0.3.2 in /usr/local/lib/python3.7/dist-packages (from -r /content/mmdetection/requirements/optional.txt (line 1)) (1.2.1)\n",
            "Requirement already satisfied: cityscapesscripts in /usr/local/lib/python3.7/dist-packages (from -r /content/mmdetection/requirements/optional.txt (line 2)) (2.2.0)\n",
            "Requirement already satisfied: imagecorruptions in /usr/local/lib/python3.7/dist-packages (from -r /content/mmdetection/requirements/optional.txt (line 3)) (1.1.2)\n",
            "Requirement already satisfied: PyYAML in /usr/local/lib/python3.7/dist-packages (from albumentations>=0.3.2->-r /content/mmdetection/requirements/optional.txt (line 1)) (3.13)\n",
            "Requirement already satisfied: opencv-python-headless>=4.1.1 in /usr/local/lib/python3.7/dist-packages (from albumentations>=0.3.2->-r /content/mmdetection/requirements/optional.txt (line 1)) (4.6.0.66)\n",
            "Requirement already satisfied: numpy>=1.11.1 in /usr/local/lib/python3.7/dist-packages (from albumentations>=0.3.2->-r /content/mmdetection/requirements/optional.txt (line 1)) (1.21.6)\n",
            "Requirement already satisfied: qudida>=0.0.4 in /usr/local/lib/python3.7/dist-packages (from albumentations>=0.3.2->-r /content/mmdetection/requirements/optional.txt (line 1)) (0.0.4)\n",
            "Requirement already satisfied: scikit-image>=0.16.1 in /usr/local/lib/python3.7/dist-packages (from albumentations>=0.3.2->-r /content/mmdetection/requirements/optional.txt (line 1)) (0.18.3)\n",
            "Requirement already satisfied: scipy in /usr/local/lib/python3.7/dist-packages (from albumentations>=0.3.2->-r /content/mmdetection/requirements/optional.txt (line 1)) (1.7.3)\n",
            "Requirement already satisfied: scikit-learn>=0.19.1 in /usr/local/lib/python3.7/dist-packages (from qudida>=0.0.4->albumentations>=0.3.2->-r /content/mmdetection/requirements/optional.txt (line 1)) (1.0.2)\n",
            "Requirement already satisfied: typing-extensions in /usr/local/lib/python3.7/dist-packages (from qudida>=0.0.4->albumentations>=0.3.2->-r /content/mmdetection/requirements/optional.txt (line 1)) (4.1.1)\n",
            "Requirement already satisfied: pillow!=7.1.0,!=7.1.1,>=4.3.0 in /usr/local/lib/python3.7/dist-packages (from scikit-image>=0.16.1->albumentations>=0.3.2->-r /content/mmdetection/requirements/optional.txt (line 1)) (6.2.1)\n",
            "Requirement already satisfied: PyWavelets>=1.1.1 in /usr/local/lib/python3.7/dist-packages (from scikit-image>=0.16.1->albumentations>=0.3.2->-r /content/mmdetection/requirements/optional.txt (line 1)) (1.3.0)\n",
            "Requirement already satisfied: matplotlib!=3.0.0,>=2.0.0 in /usr/local/lib/python3.7/dist-packages (from scikit-image>=0.16.1->albumentations>=0.3.2->-r /content/mmdetection/requirements/optional.txt (line 1)) (3.2.2)\n",
            "Requirement already satisfied: tifffile>=2019.7.26 in /usr/local/lib/python3.7/dist-packages (from scikit-image>=0.16.1->albumentations>=0.3.2->-r /content/mmdetection/requirements/optional.txt (line 1)) (2021.11.2)\n",
            "Requirement already satisfied: imageio>=2.3.0 in /usr/local/lib/python3.7/dist-packages (from scikit-image>=0.16.1->albumentations>=0.3.2->-r /content/mmdetection/requirements/optional.txt (line 1)) (2.9.0)\n",
            "Requirement already satisfied: networkx>=2.0 in /usr/local/lib/python3.7/dist-packages (from scikit-image>=0.16.1->albumentations>=0.3.2->-r /content/mmdetection/requirements/optional.txt (line 1)) (2.6.3)\n",
            "Requirement already satisfied: pyparsing!=2.0.4,!=2.1.2,!=2.1.6,>=2.0.1 in /usr/local/lib/python3.7/dist-packages (from matplotlib!=3.0.0,>=2.0.0->scikit-image>=0.16.1->albumentations>=0.3.2->-r /content/mmdetection/requirements/optional.txt (line 1)) (3.0.9)\n",
            "Requirement already satisfied: cycler>=0.10 in /usr/local/lib/python3.7/dist-packages (from matplotlib!=3.0.0,>=2.0.0->scikit-image>=0.16.1->albumentations>=0.3.2->-r /content/mmdetection/requirements/optional.txt (line 1)) (0.11.0)\n",
            "Requirement already satisfied: python-dateutil>=2.1 in /usr/local/lib/python3.7/dist-packages (from matplotlib!=3.0.0,>=2.0.0->scikit-image>=0.16.1->albumentations>=0.3.2->-r /content/mmdetection/requirements/optional.txt (line 1)) (2.8.2)\n",
            "Requirement already satisfied: kiwisolver>=1.0.1 in /usr/local/lib/python3.7/dist-packages (from matplotlib!=3.0.0,>=2.0.0->scikit-image>=0.16.1->albumentations>=0.3.2->-r /content/mmdetection/requirements/optional.txt (line 1)) (1.4.4)\n",
            "Requirement already satisfied: six>=1.5 in /usr/local/lib/python3.7/dist-packages (from python-dateutil>=2.1->matplotlib!=3.0.0,>=2.0.0->scikit-image>=0.16.1->albumentations>=0.3.2->-r /content/mmdetection/requirements/optional.txt (line 1)) (1.15.0)\n",
            "Requirement already satisfied: threadpoolctl>=2.0.0 in /usr/local/lib/python3.7/dist-packages (from scikit-learn>=0.19.1->qudida>=0.0.4->albumentations>=0.3.2->-r /content/mmdetection/requirements/optional.txt (line 1)) (3.1.0)\n",
            "Requirement already satisfied: joblib>=0.11 in /usr/local/lib/python3.7/dist-packages (from scikit-learn>=0.19.1->qudida>=0.0.4->albumentations>=0.3.2->-r /content/mmdetection/requirements/optional.txt (line 1)) (1.1.0)\n",
            "Requirement already satisfied: typing in /usr/local/lib/python3.7/dist-packages (from cityscapesscripts->-r /content/mmdetection/requirements/optional.txt (line 2)) (3.7.4.3)\n",
            "Requirement already satisfied: coloredlogs in /usr/local/lib/python3.7/dist-packages (from cityscapesscripts->-r /content/mmdetection/requirements/optional.txt (line 2)) (15.0.1)\n",
            "Requirement already satisfied: pyquaternion in /usr/local/lib/python3.7/dist-packages (from cityscapesscripts->-r /content/mmdetection/requirements/optional.txt (line 2)) (0.9.9)\n",
            "Requirement already satisfied: tqdm in /usr/local/lib/python3.7/dist-packages (from cityscapesscripts->-r /content/mmdetection/requirements/optional.txt (line 2)) (4.64.0)\n",
            "Requirement already satisfied: appdirs in /usr/local/lib/python3.7/dist-packages (from cityscapesscripts->-r /content/mmdetection/requirements/optional.txt (line 2)) (1.4.4)\n",
            "Requirement already satisfied: opencv-python>=3.4.5 in /usr/local/lib/python3.7/dist-packages (from imagecorruptions->-r /content/mmdetection/requirements/optional.txt (line 3)) (4.6.0.66)\n",
            "Requirement already satisfied: humanfriendly>=9.1 in /usr/local/lib/python3.7/dist-packages (from coloredlogs->cityscapesscripts->-r /content/mmdetection/requirements/optional.txt (line 2)) (10.0)\n",
            "No CUDA runtime is found, using CUDA_HOME='/usr/local/cuda'\n",
            "Traceback (most recent call last):\n",
            "  File \"setup.py\", line 225, in <module>\n",
            "    sources=['src/compiling_info.cpp']),\n",
            "  File \"setup.py\", line 94, in make_cuda_ext\n",
            "    raise EnvironmentError('CUDA is required to compile MMDetection!')\n",
            "OSError: CUDA is required to compile MMDetection!\n",
            "No CUDA runtime is found, using CUDA_HOME='/usr/local/cuda'\n",
            "Traceback (most recent call last):\n",
            "  File \"setup.py\", line 225, in <module>\n",
            "    sources=['src/compiling_info.cpp']),\n",
            "  File \"setup.py\", line 94, in make_cuda_ext\n",
            "    raise EnvironmentError('CUDA is required to compile MMDetection!')\n",
            "OSError: CUDA is required to compile MMDetection!\n",
            "Looking in indexes: https://pypi.org/simple, https://us-python.pkg.dev/colab-wheels/public/simple/\n",
            "Requirement already satisfied: numpy in /usr/local/lib/python3.7/dist-packages (from -r requirements/build.txt (line 2)) (1.21.6)\n",
            "Requirement already satisfied: torch>=1.1 in /usr/local/lib/python3.7/dist-packages (from -r requirements/build.txt (line 3)) (1.4.0+cu100)\n",
            "Requirement already satisfied: albumentations>=0.3.2 in /usr/local/lib/python3.7/dist-packages (from -r requirements/optional.txt (line 1)) (1.2.1)\n",
            "Requirement already satisfied: cityscapesscripts in /usr/local/lib/python3.7/dist-packages (from -r requirements/optional.txt (line 2)) (2.2.0)\n",
            "Requirement already satisfied: imagecorruptions in /usr/local/lib/python3.7/dist-packages (from -r requirements/optional.txt (line 3)) (1.1.2)\n",
            "Requirement already satisfied: matplotlib in /usr/local/lib/python3.7/dist-packages (from -r requirements/runtime.txt (line 1)) (3.2.2)\n",
            "Requirement already satisfied: mmcv>=0.3.1 in /usr/local/lib/python3.7/dist-packages (from -r requirements/runtime.txt (line 2)) (0.4.3)\n",
            "Requirement already satisfied: Pillow<=6.2.2 in /usr/local/lib/python3.7/dist-packages (from -r requirements/runtime.txt (line 5)) (6.2.1)\n",
            "Requirement already satisfied: six in /usr/local/lib/python3.7/dist-packages (from -r requirements/runtime.txt (line 6)) (1.15.0)\n",
            "Requirement already satisfied: terminaltables in /usr/local/lib/python3.7/dist-packages (from -r requirements/runtime.txt (line 7)) (3.1.10)\n",
            "Requirement already satisfied: torchvision in /usr/local/lib/python3.7/dist-packages (from -r requirements/runtime.txt (line 9)) (0.5.0+cu100)\n",
            "Requirement already satisfied: asynctest in /usr/local/lib/python3.7/dist-packages (from -r requirements/tests.txt (line 1)) (0.13.0)\n",
            "Requirement already satisfied: codecov in /usr/local/lib/python3.7/dist-packages (from -r requirements/tests.txt (line 2)) (2.1.12)\n",
            "Requirement already satisfied: flake8 in /usr/local/lib/python3.7/dist-packages (from -r requirements/tests.txt (line 3)) (5.0.3)\n",
            "Requirement already satisfied: isort in /usr/local/lib/python3.7/dist-packages (from -r requirements/tests.txt (line 4)) (5.10.1)\n",
            "Requirement already satisfied: kwarray in /usr/local/lib/python3.7/dist-packages (from -r requirements/tests.txt (line 6)) (0.6.3)\n",
            "Requirement already satisfied: pytest in /usr/local/lib/python3.7/dist-packages (from -r requirements/tests.txt (line 7)) (3.6.4)\n",
            "Requirement already satisfied: pytest-cov in /usr/local/lib/python3.7/dist-packages (from -r requirements/tests.txt (line 8)) (2.9.0)\n",
            "Requirement already satisfied: pytest-runner in /usr/local/lib/python3.7/dist-packages (from -r requirements/tests.txt (line 9)) (6.0.0)\n",
            "Requirement already satisfied: ubelt in /usr/local/lib/python3.7/dist-packages (from -r requirements/tests.txt (line 10)) (1.2.0)\n",
            "Requirement already satisfied: xdoctest>=0.10.0 in /usr/local/lib/python3.7/dist-packages (from -r requirements/tests.txt (line 11)) (1.0.1)\n",
            "Requirement already satisfied: yapf in /usr/local/lib/python3.7/dist-packages (from -r requirements/tests.txt (line 12)) (0.32.0)\n",
            "Requirement already satisfied: opencv-python-headless>=4.1.1 in /usr/local/lib/python3.7/dist-packages (from albumentations>=0.3.2->-r requirements/optional.txt (line 1)) (4.6.0.66)\n",
            "Requirement already satisfied: scipy in /usr/local/lib/python3.7/dist-packages (from albumentations>=0.3.2->-r requirements/optional.txt (line 1)) (1.7.3)\n",
            "Requirement already satisfied: scikit-image>=0.16.1 in /usr/local/lib/python3.7/dist-packages (from albumentations>=0.3.2->-r requirements/optional.txt (line 1)) (0.18.3)\n",
            "Requirement already satisfied: qudida>=0.0.4 in /usr/local/lib/python3.7/dist-packages (from albumentations>=0.3.2->-r requirements/optional.txt (line 1)) (0.0.4)\n",
            "Requirement already satisfied: PyYAML in /usr/local/lib/python3.7/dist-packages (from albumentations>=0.3.2->-r requirements/optional.txt (line 1)) (3.13)\n",
            "Requirement already satisfied: addict in /usr/local/lib/python3.7/dist-packages (from mmcv>=0.3.1->-r requirements/runtime.txt (line 2)) (2.4.0)\n",
            "Requirement already satisfied: typing-extensions in /usr/local/lib/python3.7/dist-packages (from qudida>=0.0.4->albumentations>=0.3.2->-r requirements/optional.txt (line 1)) (4.1.1)\n",
            "Requirement already satisfied: scikit-learn>=0.19.1 in /usr/local/lib/python3.7/dist-packages (from qudida>=0.0.4->albumentations>=0.3.2->-r requirements/optional.txt (line 1)) (1.0.2)\n",
            "Requirement already satisfied: PyWavelets>=1.1.1 in /usr/local/lib/python3.7/dist-packages (from scikit-image>=0.16.1->albumentations>=0.3.2->-r requirements/optional.txt (line 1)) (1.3.0)\n",
            "Requirement already satisfied: tifffile>=2019.7.26 in /usr/local/lib/python3.7/dist-packages (from scikit-image>=0.16.1->albumentations>=0.3.2->-r requirements/optional.txt (line 1)) (2021.11.2)\n",
            "Requirement already satisfied: networkx>=2.0 in /usr/local/lib/python3.7/dist-packages (from scikit-image>=0.16.1->albumentations>=0.3.2->-r requirements/optional.txt (line 1)) (2.6.3)\n",
            "Requirement already satisfied: imageio>=2.3.0 in /usr/local/lib/python3.7/dist-packages (from scikit-image>=0.16.1->albumentations>=0.3.2->-r requirements/optional.txt (line 1)) (2.9.0)\n",
            "Requirement already satisfied: cycler>=0.10 in /usr/local/lib/python3.7/dist-packages (from matplotlib->-r requirements/runtime.txt (line 1)) (0.11.0)\n",
            "Requirement already satisfied: python-dateutil>=2.1 in /usr/local/lib/python3.7/dist-packages (from matplotlib->-r requirements/runtime.txt (line 1)) (2.8.2)\n",
            "Requirement already satisfied: pyparsing!=2.0.4,!=2.1.2,!=2.1.6,>=2.0.1 in /usr/local/lib/python3.7/dist-packages (from matplotlib->-r requirements/runtime.txt (line 1)) (3.0.9)\n",
            "Requirement already satisfied: kiwisolver>=1.0.1 in /usr/local/lib/python3.7/dist-packages (from matplotlib->-r requirements/runtime.txt (line 1)) (1.4.4)\n",
            "Requirement already satisfied: threadpoolctl>=2.0.0 in /usr/local/lib/python3.7/dist-packages (from scikit-learn>=0.19.1->qudida>=0.0.4->albumentations>=0.3.2->-r requirements/optional.txt (line 1)) (3.1.0)\n",
            "Requirement already satisfied: joblib>=0.11 in /usr/local/lib/python3.7/dist-packages (from scikit-learn>=0.19.1->qudida>=0.0.4->albumentations>=0.3.2->-r requirements/optional.txt (line 1)) (1.1.0)\n",
            "Requirement already satisfied: tqdm in /usr/local/lib/python3.7/dist-packages (from cityscapesscripts->-r requirements/optional.txt (line 2)) (4.64.0)\n",
            "Requirement already satisfied: appdirs in /usr/local/lib/python3.7/dist-packages (from cityscapesscripts->-r requirements/optional.txt (line 2)) (1.4.4)\n",
            "Requirement already satisfied: coloredlogs in /usr/local/lib/python3.7/dist-packages (from cityscapesscripts->-r requirements/optional.txt (line 2)) (15.0.1)\n",
            "Requirement already satisfied: pyquaternion in /usr/local/lib/python3.7/dist-packages (from cityscapesscripts->-r requirements/optional.txt (line 2)) (0.9.9)\n",
            "Requirement already satisfied: typing in /usr/local/lib/python3.7/dist-packages (from cityscapesscripts->-r requirements/optional.txt (line 2)) (3.7.4.3)\n",
            "Requirement already satisfied: opencv-python>=3.4.5 in /usr/local/lib/python3.7/dist-packages (from imagecorruptions->-r requirements/optional.txt (line 3)) (4.6.0.66)\n",
            "Requirement already satisfied: coverage in /usr/local/lib/python3.7/dist-packages (from codecov->-r requirements/tests.txt (line 2)) (6.4.2)\n",
            "Requirement already satisfied: requests>=2.7.9 in /usr/local/lib/python3.7/dist-packages (from codecov->-r requirements/tests.txt (line 2)) (2.23.0)\n",
            "Requirement already satisfied: chardet<4,>=3.0.2 in /usr/local/lib/python3.7/dist-packages (from requests>=2.7.9->codecov->-r requirements/tests.txt (line 2)) (3.0.4)\n",
            "Requirement already satisfied: certifi>=2017.4.17 in /usr/local/lib/python3.7/dist-packages (from requests>=2.7.9->codecov->-r requirements/tests.txt (line 2)) (2022.6.15)\n",
            "Requirement already satisfied: idna<3,>=2.5 in /usr/local/lib/python3.7/dist-packages (from requests>=2.7.9->codecov->-r requirements/tests.txt (line 2)) (2.10)\n",
            "Requirement already satisfied: urllib3!=1.25.0,!=1.25.1,<1.26,>=1.21.1 in /usr/local/lib/python3.7/dist-packages (from requests>=2.7.9->codecov->-r requirements/tests.txt (line 2)) (1.24.3)\n",
            "Requirement already satisfied: pyflakes<2.6.0,>=2.5.0 in /usr/local/lib/python3.7/dist-packages (from flake8->-r requirements/tests.txt (line 3)) (2.5.0)\n",
            "Requirement already satisfied: pycodestyle<2.10.0,>=2.9.0 in /usr/local/lib/python3.7/dist-packages (from flake8->-r requirements/tests.txt (line 3)) (2.9.0)\n",
            "Requirement already satisfied: mccabe<0.8.0,>=0.7.0 in /usr/local/lib/python3.7/dist-packages (from flake8->-r requirements/tests.txt (line 3)) (0.7.0)\n",
            "Requirement already satisfied: importlib-metadata<4.3 in /usr/local/lib/python3.7/dist-packages (from flake8->-r requirements/tests.txt (line 3)) (4.2.0)\n",
            "Requirement already satisfied: zipp>=0.5 in /usr/local/lib/python3.7/dist-packages (from importlib-metadata<4.3->flake8->-r requirements/tests.txt (line 3)) (3.8.1)\n",
            "Requirement already satisfied: attrs>=17.4.0 in /usr/local/lib/python3.7/dist-packages (from pytest->-r requirements/tests.txt (line 7)) (22.1.0)\n",
            "Requirement already satisfied: more-itertools>=4.0.0 in /usr/local/lib/python3.7/dist-packages (from pytest->-r requirements/tests.txt (line 7)) (8.13.0)\n",
            "Requirement already satisfied: pluggy<0.8,>=0.5 in /usr/local/lib/python3.7/dist-packages (from pytest->-r requirements/tests.txt (line 7)) (0.7.1)\n",
            "Requirement already satisfied: py>=1.5.0 in /usr/local/lib/python3.7/dist-packages (from pytest->-r requirements/tests.txt (line 7)) (1.11.0)\n",
            "Requirement already satisfied: setuptools in /usr/local/lib/python3.7/dist-packages (from pytest->-r requirements/tests.txt (line 7)) (57.4.0)\n",
            "Requirement already satisfied: atomicwrites>=1.0 in /usr/local/lib/python3.7/dist-packages (from pytest->-r requirements/tests.txt (line 7)) (1.4.1)\n",
            "Requirement already satisfied: humanfriendly>=9.1 in /usr/local/lib/python3.7/dist-packages (from coloredlogs->cityscapesscripts->-r requirements/optional.txt (line 2)) (10.0)\n",
            "Looking in indexes: https://pypi.org/simple, https://us-python.pkg.dev/colab-wheels/public/simple/\n",
            "Requirement already satisfied: pillow==6.2.1 in /usr/local/lib/python3.7/dist-packages (6.2.1)\n",
            "Looking in indexes: https://pypi.org/simple, https://us-python.pkg.dev/colab-wheels/public/simple/\n",
            "Requirement already satisfied: mmcv==0.4.3 in /usr/local/lib/python3.7/dist-packages (0.4.3)\n",
            "Requirement already satisfied: addict in /usr/local/lib/python3.7/dist-packages (from mmcv==0.4.3) (2.4.0)\n",
            "Requirement already satisfied: numpy in /usr/local/lib/python3.7/dist-packages (from mmcv==0.4.3) (1.21.6)\n",
            "Requirement already satisfied: opencv-python-headless>=3 in /usr/local/lib/python3.7/dist-packages (from mmcv==0.4.3) (4.6.0.66)\n",
            "Requirement already satisfied: pyyaml in /usr/local/lib/python3.7/dist-packages (from mmcv==0.4.3) (3.13)\n",
            "/content\n"
          ]
        }
      ]
    },
    {
      "cell_type": "markdown",
      "metadata": {
        "id": "ElH_dg6mQaWv"
      },
      "source": [
        "## 2. Clone the Repository \n",
        "We will be using \"ICDAR 19 (Track B2 Modern) table structure recognition\" for demo"
      ]
    },
    {
      "cell_type": "code",
      "metadata": {
        "id": "3qGrF50HQZjx",
        "colab": {
          "base_uri": "https://localhost:8080/"
        },
        "outputId": "480ada98-4269-49e2-bf38-d44246ceb15b"
      },
      "source": [
        "!git clone https://github.com/DevashishPrasad/CascadeTabNet.git"
      ],
      "execution_count": 2,
      "outputs": [
        {
          "output_type": "stream",
          "name": "stdout",
          "text": [
            "fatal: destination path 'CascadeTabNet' already exists and is not an empty directory.\n"
          ]
        }
      ]
    },
    {
      "cell_type": "markdown",
      "metadata": {
        "id": "5tJFeJMMQvlv"
      },
      "source": [
        "## 3. Download the Pretrained Model\n",
        "\n"
      ]
    },
    {
      "cell_type": "code",
      "metadata": {
        "id": "VNcfZA_bQ0ZR",
        "colab": {
          "base_uri": "https://localhost:8080/"
        },
        "outputId": "f185114a-7100-4c20-b967-c3588bbf63ad"
      },
      "source": [
        "!gdown \"https://drive.google.com/u/0/uc?id=1-QieHkR1Q7CXuBu4fp3rYrvDG9j26eFT\""
      ],
      "execution_count": 3,
      "outputs": [
        {
          "output_type": "stream",
          "name": "stdout",
          "text": [
            "Downloading...\n",
            "From: https://drive.google.com/u/0/uc?id=1-QieHkR1Q7CXuBu4fp3rYrvDG9j26eFT\n",
            "To: /content/epoch_36.pth\n",
            "100% 664M/664M [00:05<00:00, 125MB/s] \n"
          ]
        }
      ]
    },
    {
      "cell_type": "markdown",
      "metadata": {
        "id": "0ChCNzJSRCtD"
      },
      "source": [
        "## 4. Run the Predictions"
      ]
    },
    {
      "cell_type": "code",
      "metadata": {
        "id": "e0P85mJJQ304",
        "colab": {
          "base_uri": "https://localhost:8080/",
          "height": 391
        },
        "outputId": "3d524939-3174-41d6-b3a9-3b916774761b"
      },
      "source": [
        "from mmdet.apis import init_detector, inference_detector, show_result_pyplot\n",
        "import numpy as np\n",
        "import mmcv\n",
        "# Load model\n",
        "config_file = '/content/CascadeTabNet/Config/cascade_mask_rcnn_hrnetv2p_w32_20e.py'\n",
        "checkpoint_file = '/content/epoch_36.pth'\n",
        "model = init_detector(config_file, checkpoint_file, device='cuda:0')\n",
        "\n",
        "# Test a single image \n",
        "img = \"/content/CascadeTabNet/Demo/demo.png\"\n",
        "\n",
        "# Run Inference\n",
        "result = inference_detector(model, img)\n",
        "\n",
        "# Buah\n",
        "bbox_result = np.vstack(result[0])\n",
        "for bbox in bbox_result:\n",
        "        bbox_int = bbox.astype(np.int32)\n",
        "        left_top = (bbox_int[0], bbox_int[1])\n",
        "        right_bottom = (bbox_int[2], bbox_int[3])\n",
        "        print(left_top)\n",
        "        print(right_bottom)\n",
        "\n",
        "# Visualization results\n",
        "show_result_pyplot(img, result,('Bordered', 'cell', 'Borderless'), score_thr=0.85)"
      ],
      "execution_count": 4,
      "outputs": [
        {
          "output_type": "error",
          "ename": "ModuleNotFoundError",
          "evalue": "ignored",
          "traceback": [
            "\u001b[0;31m---------------------------------------------------------------------------\u001b[0m",
            "\u001b[0;31mModuleNotFoundError\u001b[0m                       Traceback (most recent call last)",
            "\u001b[0;32m<ipython-input-4-9698da62a37d>\u001b[0m in \u001b[0;36m<module>\u001b[0;34m()\u001b[0m\n\u001b[0;32m----> 1\u001b[0;31m \u001b[0;32mfrom\u001b[0m \u001b[0mmmdet\u001b[0m\u001b[0;34m.\u001b[0m\u001b[0mapis\u001b[0m \u001b[0;32mimport\u001b[0m \u001b[0minit_detector\u001b[0m\u001b[0;34m,\u001b[0m \u001b[0minference_detector\u001b[0m\u001b[0;34m,\u001b[0m \u001b[0mshow_result_pyplot\u001b[0m\u001b[0;34m\u001b[0m\u001b[0;34m\u001b[0m\u001b[0m\n\u001b[0m\u001b[1;32m      2\u001b[0m \u001b[0;32mimport\u001b[0m \u001b[0mnumpy\u001b[0m \u001b[0;32mas\u001b[0m \u001b[0mnp\u001b[0m\u001b[0;34m\u001b[0m\u001b[0;34m\u001b[0m\u001b[0m\n\u001b[1;32m      3\u001b[0m \u001b[0;32mimport\u001b[0m \u001b[0mmmcv\u001b[0m\u001b[0;34m\u001b[0m\u001b[0;34m\u001b[0m\u001b[0m\n\u001b[1;32m      4\u001b[0m \u001b[0;31m# Load model\u001b[0m\u001b[0;34m\u001b[0m\u001b[0;34m\u001b[0m\u001b[0;34m\u001b[0m\u001b[0m\n\u001b[1;32m      5\u001b[0m \u001b[0mconfig_file\u001b[0m \u001b[0;34m=\u001b[0m \u001b[0;34m'/content/CascadeTabNet/Config/cascade_mask_rcnn_hrnetv2p_w32_20e.py'\u001b[0m\u001b[0;34m\u001b[0m\u001b[0;34m\u001b[0m\u001b[0m\n",
            "\u001b[0;31mModuleNotFoundError\u001b[0m: No module named 'mmdet'",
            "",
            "\u001b[0;31m---------------------------------------------------------------------------\u001b[0;32m\nNOTE: If your import is failing due to a missing package, you can\nmanually install dependencies using either !pip or !apt.\n\nTo view examples of installing some common dependencies, click the\n\"Open Examples\" button below.\n\u001b[0;31m---------------------------------------------------------------------------\u001b[0m\n"
          ],
          "errorDetails": {
            "actions": [
              {
                "action": "open_url",
                "actionText": "Open Examples",
                "url": "/notebooks/snippets/importing_libraries.ipynb"
              }
            ]
          }
        }
      ]
    },
    {
      "cell_type": "markdown",
      "metadata": {
        "id": "-IHo1XYxg_2E"
      },
      "source": [
        "**Note :** If you are getting \"no module name mmdet\" error, Please Restart the runtime by pressing \"Crtl+M\" OR going to the runtime (5th option, top left) and selecting Restart Runtime."
      ]
    },
    {
      "cell_type": "markdown",
      "metadata": {
        "id": "-Lr020DuWXUg"
      },
      "source": [
        "After this, use TSR postprocessing for best result"
      ]
    },
    {
      "cell_type": "markdown",
      "metadata": {
        "id": "O2SOloPaa8tK"
      },
      "source": [
        "# Cite us\n",
        "If you find this work useful for your research, please cite our paper:\n",
        "\n",
        "```\n",
        "@misc{ cascadetabnet2020,\n",
        "    title={CascadeTabNet: An approach for end to end table detection and structure recognition from image-based documents},\n",
        "    author={Devashish Prasad and Ayan Gadpal and Kshitij Kapadni and Manish Visave and Kavita Sultanpure},\n",
        "    year={2020},\n",
        "    eprint={2004.12629},\n",
        "    archivePrefix={arXiv},\n",
        "    primaryClass={cs.CV}\n",
        "}\n",
        "```\n"
      ]
    }
  ]
}